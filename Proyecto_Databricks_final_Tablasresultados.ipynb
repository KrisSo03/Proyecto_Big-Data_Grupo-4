{
 "cells": [
  {
   "cell_type": "markdown",
   "metadata": {
    "application/vnd.databricks.v1+cell": {
     "cellMetadata": {
      "byteLimit": 2048000,
      "rowLimit": 10000
     },
     "inputWidgets": {},
     "nuid": "d086dc1b-b6ab-4f2b-9e72-0a2a746018be",
     "showTitle": true,
     "tableResultSettingsMap": {},
     "title": ""
    }
   },
   "source": [
    "# Proyecto equipo 4"
   ]
  },
  {
   "cell_type": "markdown",
   "metadata": {
    "application/vnd.databricks.v1+cell": {
     "cellMetadata": {
      "byteLimit": 2048000,
      "rowLimit": 10000
     },
     "inputWidgets": {},
     "nuid": "10660790-d48a-4eaa-bbe7-5fa798eb84cd",
     "showTitle": false,
     "tableResultSettingsMap": {},
     "title": ""
    }
   },
   "source": [
    "## Guardar en tablas"
   ]
  },
  {
   "cell_type": "code",
   "execution_count": null,
   "metadata": {
    "vscode": {
     "languageId": "plaintext"
    }
   },
   "outputs": [],
   "source": [
    "from datetime import datetime\n",
    "import uuid\n",
    "\n",
    "def save_to_delta(resultados_finales, analisis_roi, umbrales_optimos, experiment_id=None):\n",
    "    \"\"\"\n",
    "    Guarda resultados del pipeline de fraude en Delta tables\n",
    "    \"\"\"\n",
    "    if experiment_id is None:\n",
    "        experiment_id = str(uuid.uuid4())[:8]\n",
    "    \n",
    "    timestamp = datetime.now()\n",
    "    \n",
    "    # 1. Tabla principal de resultados\n",
    "    performance_data = []\n",
    "    for _, row in resultados_finales.iterrows():\n",
    "        performance_data.append({\n",
    "            'experiment_id': experiment_id,\n",
    "            'timestamp': timestamp,\n",
    "            'model_name': row['Modelo'],\n",
    "            'threshold': float(row['Umbral']) if row['Umbral'] != 'default' else 0.5,\n",
    "            'precision': float(row['Precision']),\n",
    "            'recall': float(row['Recall']),\n",
    "            'f1_score': float(row['F1-Score']),\n",
    "            'true_positives': int(row.get('TP', 0)),\n",
    "            'false_positives': int(row.get('FP', 0)),\n",
    "            'total_alerts': int(row.get('Total_Alerts', 0)),\n",
    "            'status': row['Status']\n",
    "        })\n",
    "    \n",
    "    # 2. Tabla de ROI\n",
    "    roi_data = []\n",
    "    for _, row in analisis_roi.iterrows():\n",
    "        roi_data.append({\n",
    "            'experiment_id': experiment_id,\n",
    "            'timestamp': timestamp,\n",
    "            'model_name': row['Modelo'],\n",
    "            'total_benefit': int(row['Beneficio_Total'].replace('$', '').replace(',', '')),\n",
    "            'total_cost': int(row['Costo_Total'].replace('$', '').replace(',', '')),\n",
    "            'net_benefit': int(row['Beneficio_Neto'].replace('$', '').replace(',', '')),\n",
    "            'roi_percentage': float(row['ROI_%'].replace('%', ''))\n",
    "        })\n",
    "    \n",
    "    # 3. Tabla de umbrales\n",
    "    threshold_data = []\n",
    "    for model_name, threshold_value in umbrales_optimos.items():\n",
    "        threshold_data.append({\n",
    "            'experiment_id': experiment_id,\n",
    "            'timestamp': timestamp,\n",
    "            'model_name': model_name,\n",
    "            'optimal_threshold': float(threshold_value)\n",
    "        })\n",
    "    \n",
    "    # Guardar en Delta\n",
    "    spark.createDataFrame(pd.DataFrame(performance_data)).write.format(\"delta\").mode(\"append\").saveAsTable(\"fraud_detection.model_results\")\n",
    "    spark.createDataFrame(pd.DataFrame(roi_data)).write.format(\"delta\").mode(\"append\").saveAsTable(\"fraud_detection.roi_results\")\n",
    "    spark.createDataFrame(pd.DataFrame(threshold_data)).write.format(\"delta\").mode(\"append\").saveAsTable(\"fraud_detection.thresholds\")\n",
    "    \n",
    "    return experiment_id\n",
    "\n",
    "# Vista consolidada para análisis\n",
    "def create_summary_view():\n",
    "    spark.sql(\"\"\"\n",
    "        CREATE OR REPLACE VIEW fraud_detection.results_summary AS\n",
    "        SELECT \n",
    "            r.model_name,\n",
    "            r.precision,\n",
    "            r.recall,\n",
    "            r.f1_score,\n",
    "            r.total_alerts,\n",
    "            roi.roi_percentage,\n",
    "            roi.net_benefit,\n",
    "            t.optimal_threshold,\n",
    "            r.status,\n",
    "            r.timestamp\n",
    "        FROM fraud_detection.model_results r\n",
    "        JOIN fraud_detection.roi_results roi ON r.experiment_id = roi.experiment_id AND r.model_name = roi.model_name\n",
    "        JOIN fraud_detection.thresholds t ON r.experiment_id = t.experiment_id AND r.model_name = t.model_name\n",
    "        WHERE r.timestamp = (SELECT MAX(timestamp) FROM fraud_detection.model_results)\n",
    "    \"\"\")\n",
    "\n",
    "# Ejecutar\n",
    "experiment_id = save_to_delta(resultados_finales, analisis_roi, umbrales_optimos)\n",
    "create_summary_view()"
   ]
  }
 ],
 "metadata": {
  "application/vnd.databricks.v1+notebook": {
   "computePreferences": null,
   "dashboards": [],
   "environmentMetadata": null,
   "inputWidgetPreferences": null,
   "language": "python",
   "notebookMetadata": {
    "pythonIndentUnit": 4
   },
   "notebookName": "Proyecto_Databricks_final_Grupo 4",
   "widgets": {}
  },
  "kernelspec": {
   "display_name": ".venv",
   "language": "python",
   "name": "python3"
  },
  "language_info": {
   "name": "python"
  }
 },
 "nbformat": 4,
 "nbformat_minor": 0
}
